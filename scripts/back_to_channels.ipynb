{
 "cells": [
  {
   "cell_type": "code",
   "execution_count": 1,
   "id": "04c03162",
   "metadata": {},
   "outputs": [
    {
     "name": "stderr",
     "output_type": "stream",
     "text": [
      "/home/garkots/.conda/envs/garkots/lib/python3.8/site-packages/outdated/utils.py:14: OutdatedPackageWarning: The package pingouin is out of date. Your version is 0.5.0, the latest is 0.5.1.\n",
      "Set the environment variable OUTDATED_IGNORE=1 to disable these warnings.\n",
      "  return warn(\n"
     ]
    }
   ],
   "source": [
    "import mne\n",
    "from patient import Patient"
   ]
  },
  {
   "cell_type": "code",
   "execution_count": 15,
   "id": "801a77b9",
   "metadata": {},
   "outputs": [],
   "source": [
    "import mne\n",
    "import numpy as np\n",
    "import pandas as pd\n",
    "from tqdm import tqdm\n",
    "import random\n",
    "\n",
    "import matplotlib.pyplot as plt\n",
    "\n",
    "from pingouin import partial_corr, corr\n",
    "from sympy.utilities.iterables import multiset_permutations\n",
    "\n",
    "from utils import translate, get_average, read_annotations, no_channels_read_annotations, save_to_json\n",
    "from errors import OutOfSizeError\n",
    "\n",
    "class Patient:\n",
    "\n",
    "\n",
    "    def __init__(self, edf_file,\n",
    "                 annotations,\n",
    "                 path_to_visual_outputs,\n",
    "                 path_to_ica_matrix,\n",
    "                 path_to_results,\n",
    "                 window_length,\n",
    "                 ignore_channels,\n",
    "                 precomputed_ica,\n",
    "                 chosen_components,\n",
    "                 control_experiment):\n",
    "\n",
    "        self.SEED = 97\n",
    "\n",
    "        self.chosen_components = chosen_components\n",
    "        self.control_experiment = control_experiment\n",
    "\n",
    "        print(\"CHOSEN COMPONENTS\", self.chosen_components)\n",
    "\n",
    "        self.window_to_detect = window_length\n",
    "        self.precomputed_ica = precomputed_ica\n",
    "\n",
    "        self.raw = mne.io.read_raw_edf(edf_file)\n",
    "        self.raw_data = self.raw.get_data()\n",
    "        # .filter(l_freq=1., h_freq=None)\n",
    "        self.fs = self.raw.info['sfreq']\n",
    "        self.ch_names = self.raw.ch_names\n",
    "\n",
    "        if not ignore_channels:\n",
    "            self.annotations = read_annotations(annotations)\n",
    "        else:\n",
    "            self.annotations = no_channels_read_annotations(annotations,\n",
    "                                                            fs = self.fs,\n",
    "                                                            window=window_length,\n",
    "                                                            max_length=self.raw_data.shape[1])\n",
    "\n",
    "            if control_experiment:\n",
    "                key_random_annotations = [i for i in self.annotations.keys()][0]\n",
    "                len_values = len(self.annotations[key_random_annotations])\n",
    "                new_vals = [random.randrange(window_length, self.raw_data.shape[1]-window_length) for i in range(len_values)]\n",
    "                self.annotations[key_random_annotations] = new_vals\n",
    "\n",
    "        self.path_to_visual_outputs = path_to_visual_outputs\n",
    "        self.path_to_results = path_to_results\n",
    "        self.path_to_ica_matrix = path_to_ica_matrix\n",
    "\n",
    "\n",
    "\n",
    "    def quantify_annotations(self):\n",
    "\n",
    "        for k in self.annotations:\n",
    "            print('Channel ', k, 'with ', len(self.annotations[k]), 'markings')\n",
    "\n",
    "        self.all_markings = set()\n",
    "        for timestamps in self.annotations:\n",
    "            self.all_markings = self.all_markings.union(set(self.annotations[timestamps]))\n",
    "        print(\"Total number of markings\", len(self.all_markings))\n",
    "\n",
    "\n",
    "        general_info = {'fs':self.fs,\n",
    "                        'number of markings':len(self.all_markings)}\n",
    "\n",
    "        save_to_json(self.path_to_results+'/general_info.json', general_info)\n",
    "\n",
    "    def run_ica(self, variability_explained=0.95):\n",
    "        '''\n",
    "        Function that runs the ICA algorithm on the raw data. Saves the decomposed sources into the variable self.ica_sources_data\n",
    "        :param variability_explained: float\n",
    "        '''\n",
    "        if self.precomputed_ica:\n",
    "            self.ica_sources_data = np.load(self.path_to_ica_matrix+'/ica_matrix.npy')\n",
    "\n",
    "            self.ica_sources_ch_names = []\n",
    "            with open(self.path_to_ica_matrix+\"/component_names.txt\", \"r\") as f:\n",
    "                for line in f:\n",
    "                    self.ica_sources_ch_names.append(line.strip())\n",
    "\n",
    "        else:\n",
    "            ica = mne.preprocessing.ICA(n_components=variability_explained, random_state=self.SEED)\n",
    "            ica.fit(self.raw)\n",
    "            self.ica = ica\n",
    "            ica_sources = ica.get_sources(self.raw)\n",
    "            self.ica_sources_ch_names = ica_sources.ch_names\n",
    "            self.ica_sources_data = ica_sources.get_data()\n",
    "            self.mixing_matrix_ = ica.mixing_matrix_\n",
    "\n",
    "            np.save(self.path_to_ica_matrix+'/ica_matrix.npy', self.ica_sources_data)\n",
    "\n",
    "            with open(self.path_to_ica_matrix+\"/component_names.txt\", \"w\") as f:\n",
    "                for s in self.ica_sources_ch_names:\n",
    "                    f.write(str(s) + \"\\n\")\n",
    "\n",
    "            self.precomputed_ica = True\n",
    "\n",
    "    def no_channels_during_seizures_states(self):\n",
    "        '''\n",
    "        The function is used to derive and save the patient's state during IEDs into  a dictionary: self.per_component_state_during_seizures\n",
    "        Function stores the state of all channels and componets before and after IED in scope of a window\n",
    "        Created for analysis of channels with no prior text-processing\n",
    "        :return:\n",
    "        '''\n",
    "\n",
    "        per_channel_ieds, per_component_state_during_seizures = {}, {}\n",
    "        for i, channel in enumerate(self.ch_names):\n",
    "\n",
    "            data = self.raw_data[i]\n",
    "            for timestamp in self.all_markings:\n",
    "                pointer = timestamp\n",
    "\n",
    "                ranged_data = data[pointer - self.window_to_detect:pointer + self.window_to_detect]\n",
    "\n",
    "                if len(ranged_data) != self.window_to_detect * 2:\n",
    "                    raise OutOfSizeError(pointer)\n",
    "\n",
    "                if channel not in per_channel_ieds.keys():\n",
    "                    per_channel_ieds[channel] = [ranged_data]\n",
    "                else:\n",
    "                    per_channel_ieds[channel].append(ranged_data)\n",
    "\n",
    "        self.per_channel_ieds = per_channel_ieds\n",
    "        if self.precomputed_ica:\n",
    "\n",
    "            for i, ch in enumerate(self.ica_sources_ch_names):\n",
    "\n",
    "                data = self.ica_sources_data[i]\n",
    "\n",
    "                for timestamp in self.all_markings:\n",
    "\n",
    "                    pointer = timestamp\n",
    "\n",
    "                    ranged_data = data[pointer - self.window_to_detect:pointer + self.window_to_detect]\n",
    "\n",
    "                    if ch not in per_component_state_during_seizures.keys():\n",
    "                        per_component_state_during_seizures[ch] = [ranged_data]\n",
    "                    else:\n",
    "                        per_component_state_during_seizures[ch].append(ranged_data)\n",
    "\n",
    "            self.per_channel_ieds, self.per_component_state_during_seizures = per_channel_ieds, per_component_state_during_seizures\n",
    "\n",
    "    # def during_ieds_states(self):\n",
    "    #     '''\n",
    "    #     The function is used to derive and save the patient's state during IEDs into  a dictionary: self.per_component_state_during_seizures\n",
    "    #     :return:\n",
    "    #     '''\n",
    "    #     per_channel_ieds, per_component_state_during_seizures = {}, {}\n",
    "    #\n",
    "    #     print(\"Text-processed channels:\")\n",
    "    #     # Some channels are not text-processed conviniently and need the following text-processing\n",
    "    #     for channel in self.annotations:\n",
    "    #         print(channel)\n",
    "    #\n",
    "    #         try:\n",
    "    #             for ch_raw in self.ch_names:\n",
    "    #                 if channel.upper() in ch_raw and channel not in per_channel_ieds.keys():\n",
    "    #                     channel = ch_raw\n",
    "    #\n",
    "    #             data = self.raw_data[self.ch_names.index(channel.upper())]\n",
    "    #         except:\n",
    "    #             continue\n",
    "    #\n",
    "    #         for timestamp in self.annotations[channel[:3]]:\n",
    "    #\n",
    "    #             pointer = int(timestamp * self.fs)\n",
    "    #\n",
    "    #             ranged_data = data[pointer - self.window_to_detect:pointer + self.window_to_detect]\n",
    "    #\n",
    "    #             if channel not in per_channel_ieds.keys():\n",
    "    #                 per_channel_ieds[channel] = [ranged_data]\n",
    "    #             else:\n",
    "    #                 per_channel_ieds[channel].append(ranged_data)\n",
    "    #\n",
    "    #     for i, ch in enumerate(self.ica_sources_ch_names):\n",
    "    #\n",
    "    #         data = self.ica_sources_data[i]\n",
    "    #\n",
    "    #         for timestamp in self.all_markings:\n",
    "    #             pointer = int(timestamp * self.fs)\n",
    "    #\n",
    "    #             ranged_data = data[pointer - self.window_to_detect:pointer + self.window_to_detect]\n",
    "    #\n",
    "    #             if ch not in per_component_state_during_seizures.keys():\n",
    "    #                 per_component_state_during_seizures[ch] = [ranged_data]\n",
    "    #             else:\n",
    "    #                 per_component_state_during_seizures[ch].append(ranged_data)\n",
    "    #\n",
    "    #     self.per_channel_ieds, self.per_component_state_during_seizures = per_channel_ieds, per_component_state_during_seizures\n",
    "\n",
    "    def normalize_components(self):\n",
    "        '''\n",
    "        The function is used to normalize the components, s.t. while visualizing they will be comparable to the signal on the electrodes during IEDs.\n",
    "        '''\n",
    "        normalized_per_component_states = {}\n",
    "        leftMin, leftMax = np.min(self.ica_sources_data), np.max(self.ica_sources_data)\n",
    "        rightMin, rightMax = np.min(self.raw_data), np.max(self.raw_data)\n",
    "\n",
    "        for c in self.per_component_state_during_seizures:\n",
    "            result = []\n",
    "\n",
    "            for seizure in self.per_component_state_during_seizures[c]:\n",
    "                normalized_seizure = []\n",
    "                for el in seizure:\n",
    "                    normalized_seizure.append(translate(el, leftMin, leftMax, rightMin, rightMax))\n",
    "                result.append(normalized_seizure)\n",
    "            normalized_per_component_states[c] = np.array(result)\n",
    "\n",
    "        self.normalized_per_component_states = normalized_per_component_states\n",
    "\n",
    "    def plot_all_components_during_seizures(self, savefigures=False):\n",
    "        '''\n",
    "        The function is used to plot the states of the components during all the IEDs.\n",
    "        '''\n",
    "\n",
    "        for channel in self.per_channel_ieds:\n",
    "\n",
    "            average_signal, signal_stdev = get_average(self.per_channel_ieds[channel])\n",
    "\n",
    "            duration_timestamp = [i - self.window_to_detect for i in range(len(average_signal))]\n",
    "\n",
    "            fig = plt.figure(figsize=(24, 10))\n",
    "\n",
    "            plt.plot(duration_timestamp, average_signal, lw=3, label='pattern')\n",
    "            lower_bound = average_signal - signal_stdev\n",
    "            upper_bound = average_signal + signal_stdev\n",
    "            plt.fill_between(duration_timestamp, lower_bound, upper_bound, facecolor='lightgoldenrodyellow', alpha=0.5,\n",
    "                             label='1 sigma range')\n",
    "\n",
    "            plt.title(\"Average state during IEDs on channel \" + str(channel), fontsize=45)\n",
    "\n",
    "            for component in self.normalized_per_component_states:\n",
    "                average_component, component_stdev = get_average(self.normalized_per_component_states[component])\n",
    "\n",
    "                plt.plot(duration_timestamp, average_component, lw=1, label=component)\n",
    "\n",
    "            plt.title(\"Average state during IEDs on channel \" + str(channel), fontsize=45)\n",
    "            plt.legend(prop={'size': 7})\n",
    "            plt.xlabel('Time relative to an IED', fontsize=40)\n",
    "            plt.ylabel('Signal, mV', fontsize=40)\n",
    "\n",
    "            plt.xticks(fontsize = 30)\n",
    "            plt.yticks(fontsize=30)\n",
    "\n",
    "            if savefigures:\n",
    "                plt.savefig(self.path_to_visual_outputs+'/all_components/ch_'+str(channel)+'.jpg')\n",
    "            plt.close()\n",
    "\n",
    "    def plot_selected_components_during_seizures(self, potentially_significant, savefigures = False):\n",
    "        '''\n",
    "        The function plots channels stated as well as states on selected components during IEDs.\n",
    "        :param potentially_significant: list(str)\n",
    "        '''\n",
    "        for channel in self.per_channel_ieds:\n",
    "\n",
    "            average_signal, signal_stdev = get_average(self.per_channel_ieds[channel])\n",
    "            duration_timestamp = [i for i in range(len(average_signal))]\n",
    "\n",
    "            fig = plt.figure(figsize=(24, 10))\n",
    "\n",
    "            plt.plot(duration_timestamp, average_signal, lw=3, label='pattern')\n",
    "            lower_bound = average_signal - signal_stdev\n",
    "            upper_bound = average_signal + signal_stdev\n",
    "            plt.fill_between(duration_timestamp, lower_bound, upper_bound, facecolor='lightgoldenrodyellow', alpha=0.5,\n",
    "                             label='1 sigma range')\n",
    "\n",
    "            for component in self.normalized_per_component_states:\n",
    "\n",
    "                if component in potentially_significant:\n",
    "                    average_component, component_stdev = get_average(self.normalized_per_component_states[component])\n",
    "                    plt.plot(duration_timestamp, average_component, lw=1, label=component)\n",
    "\n",
    "            plt.title(\"Average state during IEDs on channel \" + str(channel), fontsize=45)\n",
    "            plt.legend()\n",
    "            plt.xlabel('Time relative to an IED', fontsize=40)\n",
    "            plt.ylabel('Signal, mV', fontsize=40)\n",
    "\n",
    "            plt.xticks(fontsize = 30)\n",
    "            plt.yticks(fontsize=30)\n",
    "            plt.legend(prop={'size': 30})\n",
    "\n",
    "            if savefigures:\n",
    "                plt.savefig(self.path_to_visual_outputs+'/significant_components/ch_'+str(channel)+'.jpg')\n",
    "            plt.close()\n",
    "\n",
    "\n",
    "    def plot_components_during_seizures_nochannels(self, potentially_significant=False, savefigures = False):\n",
    "        '''\n",
    "        The function plots only selected components during IEDs.\n",
    "        :param potentially_significant: list(str)\n",
    "        '''\n",
    "        if potentially_significant:\n",
    "            fig = plt.figure(figsize=(24, 10))\n",
    "            plt.title('Average components state during seizures', fontsize=23)\n",
    "            for component in self.per_component_state_during_seizures:\n",
    "                if component in potentially_significant:\n",
    "                    average_component, component_stdev = get_average(\n",
    "                        self.normalized_per_component_states[component])\n",
    "                    duration_timestamp = [i for i in range(len(average_component))]\n",
    "                    plt.plot(duration_timestamp, average_component, lw=1, label=component)\n",
    "\n",
    "            if savefigures:\n",
    "                plt.savefig(self.path_to_visual_outputs + '/potentially_significant_during_seizures.jpg')\n",
    "            plt.close()\n",
    "\n",
    "        else:\n",
    "            fig = plt.figure(figsize=(24, 10))\n",
    "            plt.title('Average components state during seizures', fontsize=23)\n",
    "            for component in self.per_component_state_during_seizures:\n",
    "                average_component, component_stdev = get_average(self.normalized_per_component_states[component])\n",
    "                duration_timestamp = [i for i in range(len(average_component))]\n",
    "                plt.plot(duration_timestamp, average_component, lw=1, label=component)\n",
    "\n",
    "            if savefigures:\n",
    "                plt.savefig(self.path_to_visual_outputs + '/all_components_during_seizures.jpg')\n",
    "            plt.close()\n",
    "\n",
    "    def plot_on_channel(self, ch_index_list, savefigures = False):\n",
    "\n",
    "        fig = plt.figure(figsize=(24, 10))\n",
    "\n",
    "        for i, channel in enumerate(self.per_channel_ieds):\n",
    "\n",
    "            if i in ch_index_list or channel in ch_index_list:\n",
    "                print(\"Channel \", channel)\n",
    "\n",
    "                average_signal, signal_stdev = get_average(self.per_channel_ieds[channel])\n",
    "\n",
    "                duration_timestamp = [i - self.window_to_detect for i in range(len(average_signal))]\n",
    "\n",
    "                fig = plt.figure(figsize=(24, 10))\n",
    "\n",
    "                plt.plot(duration_timestamp, average_signal, lw=3, label='pattern')\n",
    "                lower_bound = average_signal - signal_stdev\n",
    "                upper_bound = average_signal + signal_stdev\n",
    "                plt.fill_between(duration_timestamp, lower_bound, upper_bound, facecolor='lightyellow', alpha=0.5,\n",
    "                                 label='1 sigma range')\n",
    "\n",
    "                plt.title(\"Channel \" + str(channel), fontsize=23)\n",
    "\n",
    "        if savefigures:\n",
    "            plt.savefig(self.path_to_visual_outputs + '/selected_channels'+str(ch_index_list)+'.jpg')\n",
    "        plt.close()\n",
    "\n",
    "    def get_significant_components_state(self, potentially_significant, to_save = False):\n",
    "            '''\n",
    "            After the significant components were manually chosen,\n",
    "            this function saves them into one variable stored withing an object of a class.\n",
    "            :param potentially_significant: list(str)\n",
    "            '''\n",
    "            self.significant_components = {}\n",
    "\n",
    "            for component in self.normalized_per_component_states:\n",
    "                if component in potentially_significant:\n",
    "                    self.significant_components[component] = self.normalized_per_component_states[component]\n",
    "\n",
    "            if to_save:\n",
    "                for i in self.significant_components:\n",
    "                    f = self.path_to_results+'/significant_components_' + str(\n",
    "                        i) + '.npy'\n",
    "                    np.save(f, self.significant_components[i])\n",
    "\n",
    "\n",
    "\n",
    "\n",
    "    def run_causal_inference(self, no_combination=3):\n",
    "        '''\n",
    "        The function runs the causal analysis on the extracted components. If the n.o. components of choice exceeds 3,\n",
    "         all of the possible combinations by no_combination variable (recomennded = 3) are checked from the list.\n",
    "        :param no_combination: int\n",
    "        :return:\n",
    "        '''\n",
    "        if no_combination:\n",
    "            possible_combinations = [p for p in multiset_permutations([i for i in self.significant_components.keys()],\n",
    "                                                                      no_combination)]\n",
    "        else:\n",
    "            possible_combinations = [p for p in multiset_permutations([i for i in self.significant_components.keys()])]\n",
    "\n",
    "        results = {}\n",
    "        taus = [i for i in range(self.window_to_detect)]\n",
    "\n",
    "        pval_min_threshold, pval_max_threshold = 0.08, 0.08\n",
    "\n",
    "        for combination in possible_combinations:\n",
    "            print('combination', combination)\n",
    "            key_combination = tuple(combination)\n",
    "\n",
    "            results[key_combination] = {}\n",
    "\n",
    "            for tau in tqdm(taus):\n",
    "\n",
    "                for t0 in range(self.window_to_detect * 2 - tau * 2):\n",
    "\n",
    "                    x = self.significant_components[key_combination[0]][:, t0]\n",
    "                    y = self.significant_components[key_combination[1]][:, t0 + tau * 2]\n",
    "                    z = self.significant_components[key_combination[2]][:, t0 + tau]\n",
    "\n",
    "                    data1 = pd.DataFrame({'x': x, 'y': y, 'covar': z})\n",
    "\n",
    "                    pc = partial_corr(data1, 'x', 'y', 'covar')\n",
    "\n",
    "                    correlation = corr(data1['x'], data1['y']).round(3)\n",
    "\n",
    "                    if pc['p-val'][0] > pval_max_threshold:\n",
    "                        if correlation['p-val'][0] < pval_min_threshold:\n",
    "                            if tau in results[key_combination].keys():\n",
    "                                results[key_combination][tau].append(t0)\n",
    "                            else:\n",
    "\n",
    "                                results[key_combination][tau] = [t0]\n",
    "\n",
    "        self.per_combination_frequency = results\n",
    "\n",
    "\n",
    "    def visualize_per_Tau_frequency(self, tau, savefigures = False):\n",
    "        '''\n",
    "        The function plots tick-plot for every causal event detected relative to an IED time for every possible combination of channels.\n",
    "        :param tau: int\n",
    "        :return:\n",
    "        '''\n",
    "        fig = plt.figure(figsize=(10, 10))\n",
    "        timescale = list([i for i in range(-self.window_to_detect, self.window_to_detect)])\n",
    "        plt.title(\"τ = \" + str(tau))\n",
    "        fixed_tau = tau\n",
    "        Y_Tick_List = []\n",
    "        Y_Tick_Label_List = []\n",
    "\n",
    "        for indx, schema in enumerate(self.per_combination_frequency):\n",
    "\n",
    "            plt.plot(timescale, list([indx * 10 for k in range(2*self.window_to_detect)]), label=schema[0] + ' -> ' + schema[2])\n",
    "            Y_Tick_List.append(indx * 10)\n",
    "            Y_Tick_Label_List.append(schema[0] + ' -> ' + schema[2])\n",
    "\n",
    "            if fixed_tau in self.per_combination_frequency[schema].keys():\n",
    "                all_markings = set([k - self.window_to_detect for k in self.per_combination_frequency[schema][fixed_tau]])\n",
    "                plt.scatter(list(all_markings), list([indx * 10 for k in range(len(all_markings))]), marker=\"|\")\n",
    "            else:\n",
    "                continue\n",
    "\n",
    "        plt.yticks(ticks=Y_Tick_List, labels=Y_Tick_Label_List, rotation=25, fontsize=8)\n",
    "        plt.axvline(x=0)\n",
    "\n",
    "        if savefigures:\n",
    "            plt.savefig(self.path_to_visual_outputs + '/per_tau_results/tau_'+str(tau)+'.jpg')\n",
    "        plt.close()\n"
   ]
  },
  {
   "cell_type": "code",
   "execution_count": 16,
   "id": "b2d69010",
   "metadata": {},
   "outputs": [],
   "source": [
    "dct = {\n",
    "    'pat1': { },\n",
    "    'pat2': { },\n",
    "    'pat3': { },\n",
    "    'pat4': {\n",
    "            'wake': {'path_edf' : '/data/garkots/third_package/pat04_ON_wake/EEG_1277-export.edf',\n",
    "                      'path_ann' : '/data/garkots/third_package/pat04_ON_wake/',\n",
    "                      'path_visual' : '/home/garkots/invasive_eeg/analysis/visuals/component_choice/experiment_window_100/pat4/wake',\n",
    "                      'path_results' : '/home/garkots/invasive_eeg/analysis/visuals/component_choice/experiment_window_100/pat4/wake',\n",
    "                      'path_ica' : '/home/garkots/invasive_eeg/analysis/matrices_ica/pat4/wake',\n",
    "                      'chosen_components' : ['ICA004', 'ICA003', 'ICA007']\n",
    "                      },\n",
    "             'sleep':{'path_edf' : '/data/garkots/third_package/pat04_ON_sleep/EEG_1278-export.edf',\n",
    "                      'path_ann' : '/data/garkots/third_package/pat04_ON_sleep/',\n",
    "                      'path_visual' : '/home/garkots/invasive_eeg/analysis/visuals/component_choice/experiment_window_100/pat4/sleep',\n",
    "                      'path_results' : '/home/garkots/invasive_eeg/analysis/visuals/component_choice/experiment_window_100/pat4/sleep',\n",
    "                      'path_ica' : '/home/garkots/invasive_eeg/analysis/matrices_ica/pat4/sleep',\n",
    "                      'chosen_components' : ['ICA005', 'ICA003', 'ICA000']\n",
    "                      }\n",
    "             },\n",
    "    'pat5': {\n",
    "            'wake': {'path_edf' : '/data/garkots/third_package/pat05_OFF_wake/EEG_236-export.edf',\n",
    "                      'path_ann' : '/data/garkots/third_package/pat05_OFF_wake/',\n",
    "                      'path_visual' : '/home/garkots/invasive_eeg/analysis/visuals/component_choice/experiment_window_100/pat5/wake',\n",
    "                      'path_results' : '/home/garkots/invasive_eeg/analysis/visuals/component_choice/experiment_window_100/pat5/wake',\n",
    "                      'path_ica' : '/home/garkots/invasive_eeg/analysis/matrices_ica/pat5/wake',\n",
    "                      'chosen_components' : ['ICA001', 'ICA006', 'ICA011']\n",
    "                      },\n",
    "             'sleep':{'path_edf' : '/data/garkots/third_package/pat05_OFF_sleep/EEG_1232-export.edf',\n",
    "                      'path_ann' : '/data/garkots/third_package/pat05_OFF_sleep/',\n",
    "                      'path_visual' : '/home/garkots/invasive_eeg/analysis/visuals/component_choice/experiment_window_100/pat5/sleep',\n",
    "                      'path_results' : '/home/garkots/invasive_eeg/analysis/visuals/component_choice/experiment_window_100/pat5/sleep',\n",
    "                      'path_ica' : '/home/garkots/invasive_eeg/analysis/matrices_ica/pat5/sleep',\n",
    "                      'chosen_components' : ['ICA028', 'ICA018', 'ICA032']\n",
    "                      }\n",
    "             },\n",
    "    'pat6' : {\n",
    "            'wake': {'path_edf' : '/data/garkots/third_package/pat06_ON_wake/EEG_1231-export.edf',\n",
    "                      'path_ann' : '/data/garkots/third_package/pat06_ON_wake/',\n",
    "                      'path_visual' : '/home/garkots/invasive_eeg/analysis/visuals/component_choice/experiment_window_100/pat6/wake',\n",
    "                      'path_results' : '/home/garkots/invasive_eeg/analysis/visuals/component_choice/experiment_window_100/pat6/wake',\n",
    "                      'path_ica' : '/home/garkots/invasive_eeg/analysis/matrices_ica/pat6/wake',\n",
    "                      'chosen_components' : ['ICA006','ICA016', 'ICA003', 'ICA008', 'ICA001', 'ICA025']\n",
    "                      },\n",
    "             'sleep':{'path_edf' : '/data/garkots/third_package/pat06_ON_sleep/EEG_1230-export.edf',\n",
    "                      'path_ann' : '/data/garkots/third_package/pat06_ON_sleep/',\n",
    "                      'path_visual' : '/home/garkots/invasive_eeg/analysis/visuals/component_choice/experiment_window_100/pat6/sleep',\n",
    "                      'path_results' : '/home/garkots/invasive_eeg/analysis/visuals/component_choice/experiment_window_100/pat6/sleep',\n",
    "                      'path_ica' : '/home/garkots/invasive_eeg/analysis/matrices_ica/pat6/sleep',\n",
    "                      'chosen_components' : ['ICA007', 'ICA004', 'ICA024', 'ICA003']\n",
    "                      }\n",
    "             },\n",
    "    \n",
    "    'pat7' : {\n",
    "            'wake': {'path_edf' : '/data/garkots/third_package/pat07_ON_wake/EEG_1185-export.edf',\n",
    "                      'path_ann' : '/data/garkots/third_package/pat07_ON_wake/',\n",
    "                      'path_visual' : '/home/garkots/invasive_eeg/analysis/visuals/component_choice/experiment_window_100/pat7/wake',\n",
    "                      'path_results' : '/home/garkots/invasive_eeg/analysis/visuals/component_choice/experiment_window_100/pat7/wake',\n",
    "                      'path_ica' : '/home/garkots/invasive_eeg/analysis/matrices_ica/pat7/wake',\n",
    "                      'chosen_components' : ['ICA010', 'ICA023', 'ICA009', 'ICA006']\n",
    "                      },\n",
    "             'sleep':{'path_edf' : '/data/garkots/third_package/pat07_ON_sleep/pat07_EEG_1181-export.edf',\n",
    "                      'path_ann' : '/data/garkots/third_package/pat07_ON_sleep/',\n",
    "                      'path_visual' : '/home/garkots/invasive_eeg/analysis/visuals/component_choice/experiment_window_100/pat7/sleep',\n",
    "                      'path_results' : '/home/garkots/invasive_eeg/analysis/visuals/component_choice/experiment_window_100/pat7/sleep',\n",
    "                      'path_ica' : '/home/garkots/invasive_eeg/analysis/matrices_ica/pat7/sleep',\n",
    "                      'chosen_components' : ['ICA005', 'ICA008', 'ICA013', 'ICA009', 'ICA006']\n",
    "                      }\n",
    "             },\n",
    "    'pat8' : {\n",
    "            'wake': {'path_edf' : '/data/garkots/third_package/pat08_ON_wake/EEG_1229-export.edf',\n",
    "                      'path_ann' : '/data/garkots/third_package/pat08_ON_wake/',\n",
    "                      'path_visual' : '/home/garkots/invasive_eeg/analysis/visuals/component_choice/experiment_window_100/pat8/wake',\n",
    "                      'path_results' : '/home/garkots/invasive_eeg/analysis/visuals/component_choice/experiment_window_100/pat8/wake',\n",
    "                      'path_ica' : '/home/garkots/invasive_eeg/analysis/matrices_ica/pat8/wake',\n",
    "                      'chosen_components' : ['ICA000', 'ICA001', 'ICA002']\n",
    "                      },\n",
    "             'sleep':{'path_edf' : '/data/garkots/third_package/pat08_ON_sleep/EEG_1228-export.edf',\n",
    "                      'path_ann' : '/data/garkots/third_package/pat08_ON_sleep/',\n",
    "                      'path_visual' : '/home/garkots/invasive_eeg/analysis/visuals/component_choice/experiment_window_100/pat8/sleep',\n",
    "                      'path_results' : '/home/garkots/invasive_eeg/analysis/visuals/component_choice/experiment_window_100/pat8/sleep',\n",
    "                      'path_ica' : '/home/garkots/invasive_eeg/analysis/matrices_ica/pat8/sleep',\n",
    "                      'chosen_components' : ['ICA000', 'ICA001', 'ICA002']\n",
    "                      }\n",
    "             },\n",
    "    'pat9' : {\n",
    "            'wake': {'path_edf' : '/data/garkots/third_package/pat09_ON_wake/EEG_1227-export.edf',\n",
    "                      'path_ann' : '/data/garkots/third_package/pat09_ON_wake/',\n",
    "                      'path_visual' : '/home/garkots/invasive_eeg/analysis/visuals/component_choice/experiment_window_100/pat9/wake',\n",
    "                      'path_results' : '/home/garkots/invasive_eeg/analysis/visuals/component_choice/experiment_window_100/pat9/wake',\n",
    "                      'path_ica' : '/home/garkots/invasive_eeg/analysis/matrices_ica/pat9/wake',\n",
    "                      'chosen_components' : ['ICA006', 'ICA005', 'ICA000', 'ICA003']\n",
    "                      },\n",
    "             'sleep':{'path_edf' : '/data/garkots/third_package/pat09_ON_sleep/EEG_1225-export.edf',\n",
    "                      'path_ann' : '/data/garkots/third_package/pat09_ON_sleep/',\n",
    "                      'path_visual' : '/home/garkots/invasive_eeg/analysis/visuals/component_choice/experiment_window_100/pat9/sleep',\n",
    "                      'path_results' : '/home/garkots/invasive_eeg/analysis/visuals/component_choice/experiment_window_100/pat9/sleep',\n",
    "                      'path_ica' : '/home/garkots/invasive_eeg/analysis/matrices_ica/pat9/sleep',\n",
    "                      'chosen_components' : ['ICA004', 'ICA006', 'ICA009', 'ICA012', 'ICA001']\n",
    "                      }\n",
    "             },\n",
    "    'pat10' : {\n",
    "            'wake': {'path_edf' : '/data/garkots/third_package/pat10_wake/EEG_1222-export.edf',\n",
    "                      'path_ann' : '/data/garkots/third_package/pat10_wake/',\n",
    "                      'path_visual' : '/home/garkots/invasive_eeg/analysis/visuals/component_choice/experiment_window_100/pat10/wake',\n",
    "                      'path_results' : '/home/garkots/invasive_eeg/analysis/visuals/component_choice/experiment_window_100/pat10/wake',\n",
    "                      'path_ica' : '/home/garkots/invasive_eeg/analysis/matrices_ica/pat10/wake',\n",
    "                      'chosen_components' : ['ICA010',  'ICA005', 'ICA001']\n",
    "                      },\n",
    "             'sleep':{'path_edf' : '/data/garkots/third_package/pat10_sleep/EEG_1221-export.edf',\n",
    "                      'path_ann' : '/data/garkots/third_package/pat10_sleep/',\n",
    "                      'path_visual' : '/home/garkots/invasive_eeg/analysis/visuals/component_choice/experiment_window_100/pat10/sleep',\n",
    "                      'path_results' : '/home/garkots/invasive_eeg/analysis/visuals/component_choice/experiment_window_100/pat10/sleep',\n",
    "                      'path_ica' : '/home/garkots/invasive_eeg/analysis/matrices_ica/pat10/sleep',\n",
    "                      'chosen_components' : ['ICA009', 'ICA005', 'ICA008']\n",
    "                      }\n",
    "             }\n",
    "}"
   ]
  },
  {
   "cell_type": "code",
   "execution_count": 17,
   "id": "0942944b",
   "metadata": {},
   "outputs": [
    {
     "name": "stdout",
     "output_type": "stream",
     "text": [
      "CHOSEN COMPONENTS ['ICA009', 'ICA005', 'ICA008']\n",
      "Extracting EDF parameters from /data/garkots/third_package/pat10_sleep/EEG_1221-export.edf...\n",
      "EDF file detected\n",
      "Setting channel info structure...\n",
      "Creating raw.info structure...\n",
      "Channel  PAT10_SLEEP_EEG_1221 with  5728 markings\n",
      "Total number of markings 5727\n",
      "Fitting ICA to data using 138 channels (please be patient, this may take a while)\n"
     ]
    },
    {
     "name": "stderr",
     "output_type": "stream",
     "text": [
      "/tmp/ipykernel_355195/1683015212.py:96: RuntimeWarning: The data has not been high-pass filtered. For good ICA performance, it should be high-pass filtered (e.g., with a 1.0 Hz lower bound) before fitting ICA.\n",
      "  ica.fit(self.raw)\n"
     ]
    },
    {
     "name": "stdout",
     "output_type": "stream",
     "text": [
      "Selecting by explained variance: 15 components\n",
      "Fitting ICA took 114.2s.\n"
     ]
    }
   ],
   "source": [
    "p, s = 'pat10', 'sleep'\n",
    "patient = Patient(edf_file = dct[p][s]['path_edf'],\n",
    "                 annotations =  dct[p][s]['path_ann'],\n",
    "                 path_to_visual_outputs= dct[p][s]['path_visual'],\n",
    "                 path_to_results= dct[p][s]['path_results'],\n",
    "                 path_to_ica_matrix= dct[p][s]['path_ica'],\n",
    "                 precomputed_ica = False,\n",
    "                 ignore_channels = True,\n",
    "                 window_length = 500,\n",
    "                 chosen_components =dct[p][s]['chosen_components'],\n",
    "                 control_experiment = False)\n",
    "\n",
    "patient.quantify_annotations()\n",
    "patient.run_ica()"
   ]
  },
  {
   "cell_type": "code",
   "execution_count": 18,
   "id": "b0372c96",
   "metadata": {},
   "outputs": [
    {
     "data": {
      "text/plain": [
       "(15, 15)"
      ]
     },
     "execution_count": 18,
     "metadata": {},
     "output_type": "execute_result"
    }
   ],
   "source": [
    "patient.ica.mixing_matrix_.shape"
   ]
  },
  {
   "cell_type": "code",
   "execution_count": 19,
   "id": "ad390728",
   "metadata": {},
   "outputs": [
    {
     "data": {
      "text/plain": [
       "(138, 138)"
      ]
     },
     "execution_count": 19,
     "metadata": {},
     "output_type": "execute_result"
    }
   ],
   "source": [
    "patient.ica.pca_components_.shape"
   ]
  },
  {
   "cell_type": "code",
   "execution_count": 20,
   "id": "e6c2ec5f",
   "metadata": {},
   "outputs": [
    {
     "data": {
      "text/plain": [
       "(138,)"
      ]
     },
     "execution_count": 20,
     "metadata": {},
     "output_type": "execute_result"
    }
   ],
   "source": [
    "patient.ica.pca_explained_variance_.shape"
   ]
  },
  {
   "cell_type": "code",
   "execution_count": 21,
   "id": "6782b157",
   "metadata": {},
   "outputs": [
    {
     "data": {
      "text/plain": [
       "(15, 15)"
      ]
     },
     "execution_count": 21,
     "metadata": {},
     "output_type": "execute_result"
    }
   ],
   "source": [
    "patient.ica.unmixing_matrix_.shape"
   ]
  },
  {
   "cell_type": "code",
   "execution_count": 24,
   "id": "ea8a12ca",
   "metadata": {},
   "outputs": [
    {
     "data": {
      "text/plain": [
       "[]"
      ]
     },
     "execution_count": 24,
     "metadata": {},
     "output_type": "execute_result"
    }
   ],
   "source": [
    "patient.ica.exclude"
   ]
  },
  {
   "cell_type": "code",
   "execution_count": 26,
   "id": "c7439dec",
   "metadata": {},
   "outputs": [
    {
     "data": {
      "text/plain": [
       "(138, 1)"
      ]
     },
     "execution_count": 26,
     "metadata": {},
     "output_type": "execute_result"
    }
   ],
   "source": [
    "patient.ica.pre_whitener_.shape"
   ]
  },
  {
   "cell_type": "code",
   "execution_count": 27,
   "id": "55edbdc1",
   "metadata": {},
   "outputs": [
    {
     "data": {
      "text/plain": [
       "15"
      ]
     },
     "execution_count": 27,
     "metadata": {},
     "output_type": "execute_result"
    }
   ],
   "source": [
    "patient.ica.n_components_"
   ]
  },
  {
   "cell_type": "code",
   "execution_count": 29,
   "id": "0351b778",
   "metadata": {},
   "outputs": [
    {
     "data": {
      "text/plain": [
       "array([6.35659682e+01, 2.93753940e+01, 2.02985699e+01, 6.33974585e+00,\n",
       "       3.84086799e+00, 1.42871199e+00, 1.26105145e+00, 1.08341247e+00,\n",
       "       7.79646618e-01, 7.08221794e-01, 6.65750681e-01, 6.38511985e-01,\n",
       "       5.52039764e-01, 5.02724868e-01, 4.75120061e-01, 4.26065876e-01,\n",
       "       4.14207894e-01, 3.78865612e-01, 3.66165761e-01, 2.90479817e-01,\n",
       "       2.39952968e-01, 2.34753776e-01, 2.27948795e-01, 2.04768283e-01,\n",
       "       1.96495642e-01, 1.91397616e-01, 1.67668620e-01, 1.56090081e-01,\n",
       "       1.38132300e-01, 1.35467474e-01, 1.26276425e-01, 1.20332245e-01,\n",
       "       1.15267832e-01, 1.14663834e-01, 1.04086575e-01, 1.02564765e-01,\n",
       "       9.97793611e-02, 9.74809383e-02, 9.59346083e-02, 8.74624119e-02,\n",
       "       8.17931351e-02, 7.75649031e-02, 7.52917193e-02, 7.31771707e-02,\n",
       "       7.22876062e-02, 6.68361155e-02, 6.41440737e-02, 6.20318126e-02,\n",
       "       5.42463201e-02, 5.12809507e-02, 4.54233464e-02, 4.36609028e-02,\n",
       "       4.05714191e-02, 3.93046707e-02, 3.65454432e-02, 3.59431811e-02,\n",
       "       3.41669365e-02, 3.29665175e-02, 3.13837384e-02, 2.97408019e-02,\n",
       "       2.92975512e-02, 2.87469361e-02, 2.81242456e-02, 2.58756795e-02,\n",
       "       2.55205544e-02, 2.26258158e-02, 2.21314297e-02, 2.13524656e-02,\n",
       "       2.04787331e-02, 1.96309051e-02, 1.91567667e-02, 1.79230825e-02,\n",
       "       1.68047195e-02, 1.58575000e-02, 1.53899445e-02, 1.52115137e-02,\n",
       "       1.43348039e-02, 1.32266165e-02, 1.20572133e-02, 1.20068203e-02,\n",
       "       1.13461482e-02, 1.11431049e-02, 1.05295189e-02, 1.00874894e-02,\n",
       "       9.75866047e-03, 9.08248114e-03, 8.74541745e-03, 8.09413239e-03,\n",
       "       7.86630673e-03, 7.01675977e-03, 6.60415328e-03, 6.28091330e-03,\n",
       "       6.07408647e-03, 5.54993360e-03, 5.47835653e-03, 5.41358516e-03,\n",
       "       5.08564690e-03, 5.04794209e-03, 4.84909398e-03, 4.60025675e-03,\n",
       "       3.79732990e-03, 3.62196822e-03, 3.52486321e-03, 3.49575346e-03,\n",
       "       3.12179959e-03, 3.02810760e-03, 2.96335368e-03, 2.81964224e-03,\n",
       "       2.76640901e-03, 2.67742930e-03, 2.42276009e-03, 2.22195358e-03,\n",
       "       2.06960569e-03, 2.02102373e-03, 1.86120145e-03, 1.68275032e-03,\n",
       "       1.42235330e-03, 1.37359745e-03, 1.23668939e-03, 1.10545061e-03,\n",
       "       1.07843363e-03, 1.01721140e-03, 9.39517097e-04, 9.23807289e-04,\n",
       "       8.76164555e-04, 7.75972415e-04, 6.80468213e-04, 6.67412277e-04,\n",
       "       5.28384710e-04, 4.16082729e-04, 3.63390215e-04, 2.89710639e-04,\n",
       "       2.63659665e-04, 2.31609777e-04, 1.45203712e-04, 1.15876002e-04,\n",
       "       8.85584213e-05, 7.83663513e-05])"
      ]
     },
     "execution_count": 29,
     "metadata": {},
     "output_type": "execute_result"
    }
   ],
   "source": [
    "patient.ica.pca_explained_variance_"
   ]
  },
  {
   "cell_type": "code",
   "execution_count": 42,
   "id": "3358b71c",
   "metadata": {},
   "outputs": [],
   "source": [
    "g = patient.ica.get_components()"
   ]
  },
  {
   "cell_type": "code",
   "execution_count": 44,
   "id": "ed93e328",
   "metadata": {},
   "outputs": [
    {
     "data": {
      "text/plain": [
       "(138,)"
      ]
     },
     "execution_count": 44,
     "metadata": {},
     "output_type": "execute_result"
    }
   ],
   "source": [
    "g[:,1].shape"
   ]
  },
  {
   "cell_type": "code",
   "execution_count": 45,
   "id": "3437a03a",
   "metadata": {},
   "outputs": [
    {
     "data": {
      "text/plain": [
       "(2.5615784402949187, -0.23750664127930873)"
      ]
     },
     "execution_count": 45,
     "metadata": {},
     "output_type": "execute_result"
    }
   ],
   "source": [
    "max(g[:,1]), min(g[:,1])"
   ]
  },
  {
   "cell_type": "code",
   "execution_count": 46,
   "id": "f8daf215",
   "metadata": {},
   "outputs": [
    {
     "data": {
      "text/plain": [
       "(array([126]),)"
      ]
     },
     "execution_count": 46,
     "metadata": {},
     "output_type": "execute_result"
    }
   ],
   "source": [
    "import numpy as np\n",
    "np.where(g[:,1] == 2.5615784402949187)"
   ]
  },
  {
   "cell_type": "code",
   "execution_count": 47,
   "id": "d85a3bc8",
   "metadata": {},
   "outputs": [
    {
     "data": {
      "text/plain": [
       "(array([137]),)"
      ]
     },
     "execution_count": 47,
     "metadata": {},
     "output_type": "execute_result"
    }
   ],
   "source": [
    "\n",
    "np.where(g[:,1] == -0.23750664127930873)"
   ]
  },
  {
   "cell_type": "code",
   "execution_count": 49,
   "id": "68311792",
   "metadata": {},
   "outputs": [
    {
     "name": "stdout",
     "output_type": "stream",
     "text": [
      "Extracting EDF parameters from /data/garkots/third_package/pat10_sleep/EEG_1221-export.edf...\n",
      "EDF file detected\n",
      "Setting channel info structure...\n",
      "Creating raw.info structure...\n"
     ]
    }
   ],
   "source": [
    "f = mne.io.read_raw_edf( dct[p][s]['path_edf'])"
   ]
  },
  {
   "cell_type": "code",
   "execution_count": 51,
   "id": "fdd8f5f4",
   "metadata": {},
   "outputs": [
    {
     "data": {
      "text/plain": [
       "'POL MRTB5'"
      ]
     },
     "execution_count": 51,
     "metadata": {},
     "output_type": "execute_result"
    }
   ],
   "source": [
    "f.ch_names[126]"
   ]
  },
  {
   "cell_type": "code",
   "execution_count": 55,
   "id": "9ce78420",
   "metadata": {},
   "outputs": [],
   "source": [
    "a = np.array([9, 4, 4, 3, 3, 9, 0, 4, 6, 0])\n",
    "ind = np.argpartition(a, -4)[-4:]"
   ]
  },
  {
   "cell_type": "code",
   "execution_count": 56,
   "id": "5fadd911",
   "metadata": {},
   "outputs": [
    {
     "data": {
      "text/plain": [
       "array([4, 9, 6, 9])"
      ]
     },
     "execution_count": 56,
     "metadata": {},
     "output_type": "execute_result"
    }
   ],
   "source": [
    "a[ind]"
   ]
  },
  {
   "cell_type": "code",
   "execution_count": 57,
   "id": "0f3e44fd",
   "metadata": {},
   "outputs": [],
   "source": [
    "a = g[:,1]"
   ]
  },
  {
   "cell_type": "code",
   "execution_count": 58,
   "id": "c438826b",
   "metadata": {},
   "outputs": [],
   "source": [
    "ind = np.argpartition(a, -4)[-4:]"
   ]
  },
  {
   "cell_type": "code",
   "execution_count": 59,
   "id": "d362e3a7",
   "metadata": {},
   "outputs": [
    {
     "data": {
      "text/plain": [
       "array([1.76709529, 1.99860536, 2.56157844, 2.31920247])"
      ]
     },
     "execution_count": 59,
     "metadata": {},
     "output_type": "execute_result"
    }
   ],
   "source": [
    "a[ind]"
   ]
  },
  {
   "cell_type": "code",
   "execution_count": 61,
   "id": "8ed4ae55",
   "metadata": {},
   "outputs": [
    {
     "name": "stdout",
     "output_type": "stream",
     "text": [
      "POL MRTB3\n",
      "POL MRTB6\n",
      "POL MRTB5\n",
      "POL MRTB4\n"
     ]
    }
   ],
   "source": [
    "for i in ind:\n",
    "    print(f.ch_names[i])"
   ]
  },
  {
   "cell_type": "code",
   "execution_count": null,
   "id": "4353ead3",
   "metadata": {},
   "outputs": [],
   "source": []
  }
 ],
 "metadata": {
  "kernelspec": {
   "display_name": "Python 3 (ipykernel)",
   "language": "python",
   "name": "python3"
  },
  "language_info": {
   "codemirror_mode": {
    "name": "ipython",
    "version": 3
   },
   "file_extension": ".py",
   "mimetype": "text/x-python",
   "name": "python",
   "nbconvert_exporter": "python",
   "pygments_lexer": "ipython3",
   "version": "3.8.12"
  }
 },
 "nbformat": 4,
 "nbformat_minor": 5
}
