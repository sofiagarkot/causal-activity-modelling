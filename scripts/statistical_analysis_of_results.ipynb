{
 "cells": [
  {
   "cell_type": "markdown",
   "id": "15f9505e",
   "metadata": {},
   "source": [
    "# Experiments\n",
    "1. H0: number of causal interactions pre-IED = number of causal interactions post-IED in the wake state\n",
    "2. H0: number of causal interactions pre-IED = number of causal interactions post-IED in the sleep state \n",
    "3. H0: number of causal interactions post-IED during sleep = number of causal interactions post-IED in the wake state \n",
    "4. H0: number of causal interactions pre-IED during sleep = number of causal interactions pre-IED in the wake state\n",
    "5. H0: number of causal interactions pre-IED = number of causal interactions post-IED"
   ]
  },
  {
   "cell_type": "markdown",
   "id": "2c4a2cfb",
   "metadata": {},
   "source": [
    "How the causal interaction will be recorded"
   ]
  },
  {
   "cell_type": "code",
   "execution_count": 1,
   "id": "a9cb288a",
   "metadata": {},
   "outputs": [],
   "source": [
    "patients_to_analyze = ['pat'+str(i) for i in range(1, 10)]\n",
    "\n",
    "per_patient_state = {\n",
    "    \n",
    "    'pat1': { 'sleep': 2602, 'wake': 7009},\n",
    "    \n",
    "    'pat2': { 'sleep': 1664, 'wake': 1709},\n",
    "    \n",
    "    'pat3': { 'sleep': 711, 'wake':1283},\n",
    "    \n",
    "    'pat4': { 'sleep': 11269, 'wake':486},\n",
    "#     'pat5': { 'wake': 2659, 'sleep': 753},\n",
    "    'pat5': { 'wake': 2722, 'sleep': 765}, \n",
    "#     'pat6' : {'wake': 287, 'sleep': 796},\n",
    "    'pat6' : {'wake': 289, 'sleep': 819},\n",
    "#     'pat7' : {'wake': 1421, 'sleep': 2194},\n",
    "    'pat7' : {'wake': 1533, 'sleep': 2235},\n",
    "#     'pat8' : {'wake': 354, 'sleep': 1849},\n",
    "    'pat8' : {'wake': 356, 'sleep': 1997},\n",
    "#     'pat9' : {'wake': 522, 'sleep': 644},\n",
    "    'pat9' : {'wake': 530, 'sleep': 652},\n",
    "#     'pat10' : {'wake': 4979}\n",
    "    'pat10' : {'wake': 5084, 'sleep': 5728}\n",
    "}"
   ]
  },
  {
   "cell_type": "code",
   "execution_count": 2,
   "id": "05f61590",
   "metadata": {},
   "outputs": [],
   "source": [
    "# !pip install mlxtend\n",
    "import os\n",
    "import json\n",
    "from mlxtend.evaluate import permutation_test"
   ]
  },
  {
   "cell_type": "code",
   "execution_count": 3,
   "id": "0b6f7815",
   "metadata": {},
   "outputs": [
    {
     "data": {
      "text/plain": [
       "(2000, 2000)"
      ]
     },
     "execution_count": 3,
     "metadata": {},
     "output_type": "execute_result"
    }
   ],
   "source": [
    "# window length 100\n",
    "pre_wake = []\n",
    "post_wake = []\n",
    "\n",
    "pre_sleep = []\n",
    "post_sleep = []\n",
    "\n",
    "pre = []\n",
    "post = []\n",
    "\n",
    "\n",
    "path = '/home/garkots/invasive_eeg/analysis/results/experiment_window_100/'\n",
    "for pat in per_patient_state:\n",
    "    for state in per_patient_state[pat]:\n",
    "        \n",
    "        for file in os.listdir(path+pat+'/'+state):\n",
    "            if not (\"total\" in file and \".json\" in file):  # removing the results for most frequent tau, cause I recorded for both most frequent and all the taus \n",
    "                continue\n",
    "            filename = path+pat+'/'+state+'/'+file\n",
    "            f = open(filename, 'r')\n",
    "            data = json.load(f)\n",
    "            f.close()\n",
    "\n",
    "            # total causal interactions  \n",
    "            before = []\n",
    "            after = []\n",
    "\n",
    "            for j in data:\n",
    "\n",
    "                if int(j) < 0 and 'total' in file:   # if before an IED and total causal interactions recorded\n",
    "\n",
    "                    before.append(data[j])\n",
    "\n",
    "                else:\n",
    "\n",
    "                    after.append(data[j])\n",
    "\n",
    "\n",
    "\n",
    "            if 'wake' in file:\n",
    "                pre_wake.extend(before)\n",
    "                post_wake.extend(after)\n",
    "\n",
    "                pre.extend(before)\n",
    "                post.extend(after)\n",
    "\n",
    "\n",
    "            elif 'sleep' in file:\n",
    "\n",
    "                pre_sleep.extend(before)\n",
    "                post_sleep.extend(after)\n",
    "\n",
    "                pre.extend(before)\n",
    "                post.extend(after)\n",
    "                \n",
    "len(pre), len(post)"
   ]
  },
  {
   "cell_type": "code",
   "execution_count": 4,
   "id": "ec68ec59",
   "metadata": {},
   "outputs": [
    {
     "name": "stdout",
     "output_type": "stream",
     "text": [
      "Pre IED vs. post IED: 9.999000099990002e-05\n"
     ]
    }
   ],
   "source": [
    "p_value = permutation_test(pre, post,\n",
    "                           method='approximate',\n",
    "                           num_rounds=10000,\n",
    "                           seed=0)\n",
    "print(\"Pre IED vs. post IED:\", p_value)"
   ]
  },
  {
   "cell_type": "code",
   "execution_count": 5,
   "id": "f4aa58b5",
   "metadata": {},
   "outputs": [
    {
     "name": "stdout",
     "output_type": "stream",
     "text": [
      "Pre-wake vs. post-wake: 0.00019998000199980003\n"
     ]
    }
   ],
   "source": [
    "p_value = permutation_test(pre_wake, post_wake,\n",
    "                           method='approximate',\n",
    "                           num_rounds=10000,\n",
    "                           seed=0)\n",
    "print(\"Pre-wake vs. post-wake:\", p_value)"
   ]
  },
  {
   "cell_type": "code",
   "execution_count": 6,
   "id": "13257932",
   "metadata": {},
   "outputs": [
    {
     "name": "stdout",
     "output_type": "stream",
     "text": [
      "Pre-sleep vs. post-sleep: 9.999000099990002e-05\n"
     ]
    }
   ],
   "source": [
    "p_value = permutation_test(pre_sleep, post_sleep,\n",
    "                           method='approximate',\n",
    "                           num_rounds=10000,\n",
    "                           seed=0)\n",
    "print(\"Pre-sleep vs. post-sleep:\", p_value)"
   ]
  },
  {
   "cell_type": "code",
   "execution_count": 7,
   "id": "e4763ab7",
   "metadata": {},
   "outputs": [
    {
     "name": "stdout",
     "output_type": "stream",
     "text": [
      "Post-sleep vs. post-wake: 0.48795120487951205\n"
     ]
    }
   ],
   "source": [
    "p_value = permutation_test(post_sleep, post_wake,\n",
    "                           method='approximate',\n",
    "                           num_rounds=10000,\n",
    "                           seed=0)\n",
    "print(\"Post-sleep vs. post-wake:\", p_value)"
   ]
  },
  {
   "cell_type": "code",
   "execution_count": 8,
   "id": "3f3f6109",
   "metadata": {},
   "outputs": [
    {
     "name": "stdout",
     "output_type": "stream",
     "text": [
      "Pre-sleep vs. pre-wake: 0.10328967103289671\n"
     ]
    }
   ],
   "source": [
    "p_value = permutation_test(pre_sleep, pre_wake,\n",
    "                           method='approximate',\n",
    "                           num_rounds=10000,\n",
    "                           seed=0)\n",
    "print(\"Pre-sleep vs. pre-wake:\", p_value)"
   ]
  },
  {
   "cell_type": "markdown",
   "id": "0a54b71b",
   "metadata": {},
   "source": [
    "# Normalized"
   ]
  },
  {
   "cell_type": "code",
   "execution_count": 23,
   "id": "a99b3bad",
   "metadata": {},
   "outputs": [
    {
     "data": {
      "text/plain": [
       "(1800, 1800)"
      ]
     },
     "execution_count": 23,
     "metadata": {},
     "output_type": "execute_result"
    }
   ],
   "source": [
    "\n",
    "pre_wake = []\n",
    "post_wake = []\n",
    "\n",
    "pre_sleep = []\n",
    "post_sleep = []\n",
    "\n",
    "pre = []\n",
    "post = []\n",
    "\n",
    "\n",
    "\n",
    "path = '/home/garkots/invasive_eeg/analysis/results/experiment_window_100/'\n",
    "for pat in per_patient_state:\n",
    "    for state in per_patient_state[pat]:\n",
    "        \n",
    "        for file in os.listdir(path+pat+'/'+state):\n",
    "            \n",
    "            if not (\"total\" in file and \".json\" in file):  # removing the results for most frequent tau, cause I recorded for both most frequent and all the taus \n",
    "                continue\n",
    "            \n",
    "            filename = path+pat+'/'+state+'/'+file\n",
    "            f = open(filename, 'r')\n",
    "            data = json.load(f)\n",
    "            f.close()\n",
    "        \n",
    "            # total causal interactions  \n",
    "            before = []\n",
    "            after = []\n",
    "\n",
    "            for j in data:\n",
    "\n",
    "                if int(j) < 0 and 'total' in file:   # if before an IED and total causal interactions recorded\n",
    "\n",
    "                    if 'wake' in file :\n",
    "                        before.append(data[j]/per_patient_state[pat]['wake'])\n",
    "\n",
    "                    elif 'sleep' in file:\n",
    "                        before.append(data[j]/per_patient_state[pat]['sleep'])\n",
    "\n",
    "                else:\n",
    "\n",
    "                    if 'wake' in file:\n",
    "                        after.append(data[j]/per_patient_state[pat]['wake'])\n",
    "\n",
    "                    elif 'sleep' in file:\n",
    "                        after.append(data[j]/per_patient_state[pat]['sleep'])\n",
    "\n",
    "\n",
    "            if 'wake' in file:\n",
    "                pre_wake.extend(before)\n",
    "                post_wake.extend(after)\n",
    "\n",
    "                pre.extend(before)\n",
    "                post.extend(after)\n",
    "\n",
    "\n",
    "            elif 'sleep' in file:\n",
    "\n",
    "                pre_sleep.extend(before)\n",
    "                post_sleep.extend(after)\n",
    "\n",
    "                pre.extend(before)\n",
    "                post.extend(after)\n",
    "                \n",
    "len(pre), len(post)"
   ]
  },
  {
   "cell_type": "code",
   "execution_count": 24,
   "id": "d145ac0f",
   "metadata": {},
   "outputs": [
    {
     "name": "stdout",
     "output_type": "stream",
     "text": [
      "Pre IED vs. post IED: 0.00019998000199980003\n"
     ]
    }
   ],
   "source": [
    "p_value = permutation_test(pre, post,\n",
    "                           method='approximate',\n",
    "                           num_rounds=10000,\n",
    "                           seed=0)\n",
    "print(\"Pre IED vs. post IED:\", p_value)"
   ]
  },
  {
   "cell_type": "code",
   "execution_count": 25,
   "id": "29656509",
   "metadata": {},
   "outputs": [
    {
     "name": "stdout",
     "output_type": "stream",
     "text": [
      "Pre-wake vs. post-wake: 0.0004999500049995\n"
     ]
    }
   ],
   "source": [
    "p_value = permutation_test(pre_wake, post_wake,\n",
    "                           method='approximate',\n",
    "                           num_rounds=10000,\n",
    "                           seed=0)\n",
    "print(\"Pre-wake vs. post-wake:\", p_value)"
   ]
  },
  {
   "cell_type": "code",
   "execution_count": 26,
   "id": "68e4c86a",
   "metadata": {},
   "outputs": [
    {
     "name": "stdout",
     "output_type": "stream",
     "text": [
      "Pre-sleep vs. post-sleep: 9.999000099990002e-05\n"
     ]
    }
   ],
   "source": [
    "p_value = permutation_test(pre_sleep, post_sleep,\n",
    "                           method='approximate',\n",
    "                           num_rounds=10000,\n",
    "                           seed=0)\n",
    "print(\"Pre-sleep vs. post-sleep:\", p_value)"
   ]
  },
  {
   "cell_type": "code",
   "execution_count": 27,
   "id": "71d51b61",
   "metadata": {},
   "outputs": [
    {
     "name": "stdout",
     "output_type": "stream",
     "text": [
      "Post-sleep vs. post-wake: 9.999000099990002e-05\n"
     ]
    }
   ],
   "source": [
    "p_value = permutation_test(post_sleep, post_wake,\n",
    "                           method='approximate',\n",
    "                           num_rounds=10000,\n",
    "                           seed=0)\n",
    "print(\"Post-sleep vs. post-wake:\", p_value)"
   ]
  },
  {
   "cell_type": "code",
   "execution_count": 28,
   "id": "70ec2abb",
   "metadata": {},
   "outputs": [
    {
     "name": "stdout",
     "output_type": "stream",
     "text": [
      "Pre-sleep vs. pre-wake: 9.999000099990002e-05\n"
     ]
    }
   ],
   "source": [
    "p_value = permutation_test(pre_sleep, pre_wake,\n",
    "                           method='approximate',\n",
    "                           num_rounds=10000,\n",
    "                           seed=0)\n",
    "print(\"Pre-sleep vs. pre-wake:\", p_value)"
   ]
  },
  {
   "cell_type": "markdown",
   "id": "9330c4f7",
   "metadata": {},
   "source": [
    "# Window length 500"
   ]
  },
  {
   "cell_type": "code",
   "execution_count": 29,
   "id": "9b79cdae",
   "metadata": {},
   "outputs": [
    {
     "data": {
      "text/plain": [
       "(8000, 8000)"
      ]
     },
     "execution_count": 29,
     "metadata": {},
     "output_type": "execute_result"
    }
   ],
   "source": [
    "# window length 100\n",
    "pre_wake = []\n",
    "post_wake = []\n",
    "\n",
    "pre_sleep = []\n",
    "post_sleep = []\n",
    "\n",
    "pre = []\n",
    "post = []\n",
    "\n",
    "\n",
    "path = '/home/garkots/invasive_eeg/analysis/results/experiment_window_500/'\n",
    "for pat in per_patient_state:\n",
    "    for state in per_patient_state[pat]:\n",
    "        \n",
    "        for file in os.listdir(path+pat+'/'+state):\n",
    "            if not (\"total\" in file and \".json\" in file):  # removing the results for most frequent tau, cause I recorded for both most frequent and all the taus \n",
    "                continue\n",
    "            filename = path+pat+'/'+state+'/'+file\n",
    "            f = open(filename, 'r')\n",
    "            data = json.load(f)\n",
    "            f.close()\n",
    "\n",
    "            # total causal interactions  \n",
    "            before = []\n",
    "            after = []\n",
    "\n",
    "            for j in data:\n",
    "\n",
    "                if int(j) < 0 and 'total' in file:   # if before an IED and total causal interactions recorded\n",
    "\n",
    "                    before.append(data[j])\n",
    "\n",
    "                else:\n",
    "\n",
    "                    after.append(data[j])\n",
    "\n",
    "\n",
    "\n",
    "            if 'wake' in file:\n",
    "                pre_wake.extend(before)\n",
    "                post_wake.extend(after)\n",
    "\n",
    "                pre.extend(before)\n",
    "                post.extend(after)\n",
    "\n",
    "\n",
    "            elif 'sleep' in file:\n",
    "\n",
    "                pre_sleep.extend(before)\n",
    "                post_sleep.extend(after)\n",
    "\n",
    "                pre.extend(before)\n",
    "                post.extend(after)\n",
    "                \n",
    "len(pre), len(post)"
   ]
  },
  {
   "cell_type": "code",
   "execution_count": 30,
   "id": "2e928d80",
   "metadata": {},
   "outputs": [
    {
     "name": "stdout",
     "output_type": "stream",
     "text": [
      "Pre IED vs. post IED: 9.999000099990002e-05\n"
     ]
    }
   ],
   "source": [
    "p_value = permutation_test(pre, post,\n",
    "                           method='approximate',\n",
    "                           num_rounds=10000,\n",
    "                           seed=0)\n",
    "print(\"Pre IED vs. post IED:\", p_value)"
   ]
  },
  {
   "cell_type": "code",
   "execution_count": 31,
   "id": "987808a2",
   "metadata": {},
   "outputs": [
    {
     "name": "stdout",
     "output_type": "stream",
     "text": [
      "Pre-wake vs. post-wake: 9.999000099990002e-05\n"
     ]
    }
   ],
   "source": [
    "p_value = permutation_test(pre_wake, post_wake,\n",
    "                           method='approximate',\n",
    "                           num_rounds=10000,\n",
    "                           seed=0)\n",
    "print(\"Pre-wake vs. post-wake:\", p_value)"
   ]
  },
  {
   "cell_type": "code",
   "execution_count": 32,
   "id": "99ebbec0",
   "metadata": {},
   "outputs": [
    {
     "name": "stdout",
     "output_type": "stream",
     "text": [
      "Pre-sleep vs. post-sleep: 9.999000099990002e-05\n"
     ]
    }
   ],
   "source": [
    "p_value = permutation_test(pre_sleep, post_sleep,\n",
    "                           method='approximate',\n",
    "                           num_rounds=10000,\n",
    "                           seed=0)\n",
    "print(\"Pre-sleep vs. post-sleep:\", p_value)"
   ]
  },
  {
   "cell_type": "code",
   "execution_count": 33,
   "id": "56bbc7a8",
   "metadata": {},
   "outputs": [
    {
     "name": "stdout",
     "output_type": "stream",
     "text": [
      "Post-sleep vs. post-wake: 9.999000099990002e-05\n"
     ]
    }
   ],
   "source": [
    "p_value = permutation_test(post_sleep, post_wake,\n",
    "                           method='approximate',\n",
    "                           num_rounds=10000,\n",
    "                           seed=0)\n",
    "print(\"Post-sleep vs. post-wake:\", p_value)"
   ]
  },
  {
   "cell_type": "code",
   "execution_count": 34,
   "id": "dc326b6c",
   "metadata": {},
   "outputs": [
    {
     "name": "stdout",
     "output_type": "stream",
     "text": [
      "Pre-sleep vs. pre-wake: 9.999000099990002e-05\n"
     ]
    }
   ],
   "source": [
    "p_value = permutation_test(pre_sleep, pre_wake,\n",
    "                           method='approximate',\n",
    "                           num_rounds=10000,\n",
    "                           seed=0)\n",
    "print(\"Pre-sleep vs. pre-wake:\", p_value)"
   ]
  },
  {
   "cell_type": "markdown",
   "id": "3c7bf64d",
   "metadata": {},
   "source": [
    "# Normalized"
   ]
  },
  {
   "cell_type": "code",
   "execution_count": 35,
   "id": "7d0307a6",
   "metadata": {},
   "outputs": [
    {
     "data": {
      "text/plain": [
       "(8000, 8000)"
      ]
     },
     "execution_count": 35,
     "metadata": {},
     "output_type": "execute_result"
    }
   ],
   "source": [
    "\n",
    "pre_wake = []\n",
    "post_wake = []\n",
    "\n",
    "pre_sleep = []\n",
    "post_sleep = []\n",
    "\n",
    "pre = []\n",
    "post = []\n",
    "\n",
    "\n",
    "\n",
    "path = '/home/garkots/invasive_eeg/analysis/results/experiment_window_500/'\n",
    "for pat in per_patient_state:\n",
    "    for state in per_patient_state[pat]:\n",
    "        \n",
    "        for file in os.listdir(path+pat+'/'+state):\n",
    "            \n",
    "            if not (\"total\" in file and \".json\" in file):  # removing the results for most frequent tau, cause I recorded for both most frequent and all the taus \n",
    "                continue\n",
    "            \n",
    "            filename = path+pat+'/'+state+'/'+file\n",
    "            f = open(filename, 'r')\n",
    "            data = json.load(f)\n",
    "            f.close()\n",
    "        \n",
    "            # total causal interactions  \n",
    "            before = []\n",
    "            after = []\n",
    "\n",
    "            for j in data:\n",
    "\n",
    "                if int(j) < 0 and 'total' in file:   # if before an IED and total causal interactions recorded\n",
    "\n",
    "                    if 'wake' in file :\n",
    "                        before.append(data[j]/per_patient_state[pat]['wake'])\n",
    "\n",
    "                    elif 'sleep' in file:\n",
    "                        before.append(data[j]/per_patient_state[pat]['sleep'])\n",
    "\n",
    "                else:\n",
    "\n",
    "                    if 'wake' in file:\n",
    "                        after.append(data[j]/per_patient_state[pat]['wake'])\n",
    "\n",
    "                    elif 'sleep' in file:\n",
    "                        after.append(data[j]/per_patient_state[pat]['sleep'])\n",
    "\n",
    "\n",
    "            if 'wake' in file:\n",
    "                pre_wake.extend(before)\n",
    "                post_wake.extend(after)\n",
    "\n",
    "                pre.extend(before)\n",
    "                post.extend(after)\n",
    "\n",
    "\n",
    "            elif 'sleep' in file:\n",
    "\n",
    "                pre_sleep.extend(before)\n",
    "                post_sleep.extend(after)\n",
    "\n",
    "                pre.extend(before)\n",
    "                post.extend(after)\n",
    "                \n",
    "len(pre), len(post)"
   ]
  },
  {
   "cell_type": "code",
   "execution_count": 36,
   "id": "ccb64ba9",
   "metadata": {},
   "outputs": [
    {
     "name": "stdout",
     "output_type": "stream",
     "text": [
      "Pre IED vs. post IED: 9.999000099990002e-05\n"
     ]
    }
   ],
   "source": [
    "p_value = permutation_test(pre, post,\n",
    "                           method='approximate',\n",
    "                           num_rounds=10000,\n",
    "                           seed=0)\n",
    "print(\"Pre IED vs. post IED:\", p_value)"
   ]
  },
  {
   "cell_type": "code",
   "execution_count": 37,
   "id": "bf3ec944",
   "metadata": {},
   "outputs": [
    {
     "name": "stdout",
     "output_type": "stream",
     "text": [
      "Pre-wake vs. post-wake: 9.999000099990002e-05\n"
     ]
    }
   ],
   "source": [
    "p_value = permutation_test(pre_wake, post_wake,\n",
    "                           method='approximate',\n",
    "                           num_rounds=10000,\n",
    "                           seed=0)\n",
    "print(\"Pre-wake vs. post-wake:\", p_value)"
   ]
  },
  {
   "cell_type": "code",
   "execution_count": 38,
   "id": "c825337f",
   "metadata": {},
   "outputs": [
    {
     "name": "stdout",
     "output_type": "stream",
     "text": [
      "Pre-sleep vs. post-sleep: 9.999000099990002e-05\n"
     ]
    }
   ],
   "source": [
    "p_value = permutation_test(pre_sleep, post_sleep,\n",
    "                           method='approximate',\n",
    "                           num_rounds=10000,\n",
    "                           seed=0)\n",
    "print(\"Pre-sleep vs. post-sleep:\", p_value)"
   ]
  },
  {
   "cell_type": "code",
   "execution_count": 39,
   "id": "94dd1685",
   "metadata": {},
   "outputs": [
    {
     "name": "stdout",
     "output_type": "stream",
     "text": [
      "Post-sleep vs. post-wake: 9.999000099990002e-05\n"
     ]
    }
   ],
   "source": [
    "p_value = permutation_test(post_sleep, post_wake,\n",
    "                           method='approximate',\n",
    "                           num_rounds=10000,\n",
    "                           seed=0)\n",
    "print(\"Post-sleep vs. post-wake:\", p_value)"
   ]
  },
  {
   "cell_type": "code",
   "execution_count": 40,
   "id": "953a151e",
   "metadata": {},
   "outputs": [
    {
     "name": "stdout",
     "output_type": "stream",
     "text": [
      "Pre-sleep vs. pre-wake: 9.999000099990002e-05\n"
     ]
    }
   ],
   "source": [
    "p_value = permutation_test(pre_sleep, pre_wake,\n",
    "                           method='approximate',\n",
    "                           num_rounds=10000,\n",
    "                           seed=0)\n",
    "print(\"Pre-sleep vs. pre-wake:\", p_value)"
   ]
  },
  {
   "cell_type": "code",
   "execution_count": null,
   "id": "a1cb270f",
   "metadata": {},
   "outputs": [],
   "source": []
  }
 ],
 "metadata": {
  "kernelspec": {
   "display_name": "Python 3 (ipykernel)",
   "language": "python",
   "name": "python3"
  },
  "language_info": {
   "codemirror_mode": {
    "name": "ipython",
    "version": 3
   },
   "file_extension": ".py",
   "mimetype": "text/x-python",
   "name": "python",
   "nbconvert_exporter": "python",
   "pygments_lexer": "ipython3",
   "version": "3.8.12"
  }
 },
 "nbformat": 4,
 "nbformat_minor": 5
}
